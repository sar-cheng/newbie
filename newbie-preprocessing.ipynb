{
 "cells": [
  {
   "cell_type": "code",
   "execution_count": 1,
   "id": "f7b60afa",
   "metadata": {},
   "outputs": [],
   "source": [
    "import alpaca_trade_api as tradeapi\n",
    "import time\n",
    "import threading\n",
    "\n",
    "# Alpaca API credentials\n",
    "API_KEY = 'PKL0QPAXI2XEQN42OD2S'\n",
    "API_SECRET = 'nkqziIUvRn7rkEihNRVpw9IcNYftpDxVHPRQnyS3'\n",
    "BASE_URL = 'https://paper-api.alpaca.markets'\n",
    "\n",
    "# Initialize API\n",
    "api = tradeapi.REST(API_KEY, API_SECRET, base_url=BASE_URL)\n",
    "\n",
    "# News data storage\n",
    "all_news = []\n",
    "\n",
    "# List of tickers\n",
    "tickers = [\n",
    "    \"AAPL\", \"MSFT\", \"GOOGL\", \"AMZN\", \"FB\", \"INTC\", \"TSLA\", \"NVDA\", \"ORCL\", \"IBM\",\n",
    "    \"JPM\", \"BAC\", \"WFC\", \"C\", \"GS\", \"AXP\", \"MS\", \"BRK.B\",\n",
    "    \"JNJ\", \"PFE\", \"UNH\", \"MRK\", \"ABBV\", \"TMO\", \"ABT\",\n",
    "    \"PG\", \"KO\", \"PEP\", \"NKE\", \"MO\",\n",
    "    \"GE\", \"MMM\", \"BA\", \"HON\", \"CAT\",\n",
    "    \"XOM\", \"CVX\", \"BP\", \"TOT\",\n",
    "    \"NEP\", \"DUK\", \"SO\",\n",
    "    \"T\", \"VZ\",\n",
    "    \"DIS\", \"MCD\", \"SBUX\",\n",
    "    \"WMT\", \"HD\"\n",
    "]\n",
    "\n",
    "\n",
    "# Function to fetch news for a ticker\n",
    "def fetch_news(ticker):\n",
    "    global all_news\n",
    "    try:\n",
    "        news = api.get_news(symbol=ticker, limit=200)  # Adjust the limit as needed\n",
    "        \n",
    "        headline = clean_text(article.headline)\n",
    "        summary = clean_text(article.summary)\n",
    "        for article in news:\n",
    "            all_news.append({\n",
    "                'headline': headline,\n",
    "                'summary': summary,\n",
    "                'created_at': extract_date(article.created_at),\n",
    "                'sentiment': get_sentiment(headline, summary)\n",
    "            })\n",
    "    except Exception as e:\n",
    "        print(f\"Error fetching news for {ticker}: {e}\")\n",
    "\n",
    "# Function to process requests in batches\n",
    "def process_requests():\n",
    "    while tickers:\n",
    "        threads = []\n",
    "        for _ in range(200):  # 200 parallel threads, respecting the rate limit\n",
    "            if tickers:\n",
    "                ticker = tickers.pop(0)\n",
    "                thread = threading.Thread(target=fetch_news, args=(ticker,))\n",
    "                threads.append(thread)\n",
    "                thread.start()\n",
    "\n",
    "        # Wait for all threads to complete\n",
    "        for thread in threads:\n",
    "            thread.join()\n",
    "\n",
    "        # Wait for 60 seconds before the next batch\n",
    "        time.sleep(60)\n",
    "\n",
    "# Start processing\n",
    "process_requests()\n"
   ]
  },
  {
   "cell_type": "code",
   "execution_count": 2,
   "id": "94112a4d",
   "metadata": {},
   "outputs": [
    {
     "name": "stdout",
     "output_type": "stream",
     "text": [
      "Data saved to financial_news.csv\n"
     ]
    }
   ],
   "source": [
    "import csv\n",
    "\n",
    "# Define CSV file name\n",
    "csv_file = 'financial_news.csv'\n",
    "\n",
    "# Write data to CSV\n",
    "with open(csv_file, mode='w', newline='', encoding='utf-8') as file:\n",
    "    writer = csv.DictWriter(file, fieldnames=all_news[0].keys())\n",
    "    writer.writeheader()\n",
    "    for news_item in all_news:\n",
    "        writer.writerow(news_item)\n",
    "\n",
    "print(f'Data saved to {csv_file}')"
   ]
  },
  {
   "cell_type": "code",
   "execution_count": 5,
   "id": "14ea4b32",
   "metadata": {},
   "outputs": [
    {
     "data": {
      "text/html": [
       "<div>\n",
       "<style scoped>\n",
       "    .dataframe tbody tr th:only-of-type {\n",
       "        vertical-align: middle;\n",
       "    }\n",
       "\n",
       "    .dataframe tbody tr th {\n",
       "        vertical-align: top;\n",
       "    }\n",
       "\n",
       "    .dataframe thead th {\n",
       "        text-align: right;\n",
       "    }\n",
       "</style>\n",
       "<table border=\"1\" class=\"dataframe\">\n",
       "  <thead>\n",
       "    <tr style=\"text-align: right;\">\n",
       "      <th></th>\n",
       "      <th>headline</th>\n",
       "      <th>summary</th>\n",
       "      <th>created_at</th>\n",
       "      <th>url</th>\n",
       "    </tr>\n",
       "  </thead>\n",
       "  <tbody>\n",
       "    <tr>\n",
       "      <th>0</th>\n",
       "      <td>Meta Blocks Adults From Messaging Teens They D...</td>\n",
       "      <td>Meta Platforms has unveiled stricter messaging...</td>\n",
       "      <td>2024-01-25 13:37:00+00:00</td>\n",
       "      <td>https://www.benzinga.com/news/24/01/36779229/m...</td>\n",
       "    </tr>\n",
       "    <tr>\n",
       "      <th>1</th>\n",
       "      <td>After 130% Surge, AMD Faces Uncertain Road Ahe...</td>\n",
       "      <td>AMD&amp;#39;s stock surged in 2023 due to high dem...</td>\n",
       "      <td>2024-01-23 08:03:02+00:00</td>\n",
       "      <td>https://www.benzinga.com/analyst-ratings/analy...</td>\n",
       "    </tr>\n",
       "    <tr>\n",
       "      <th>2</th>\n",
       "      <td>Legendary Investor Jim Rogers Predicts Market ...</td>\n",
       "      <td>Rogers has identified indicators of an impendi...</td>\n",
       "      <td>2023-12-29 09:11:30+00:00</td>\n",
       "      <td>https://www.benzinga.com/news/23/12/36423331/l...</td>\n",
       "    </tr>\n",
       "    <tr>\n",
       "      <th>3</th>\n",
       "      <td>Mark Zuckerberg's Meta Said To Be Worried Abou...</td>\n",
       "      <td>This story was first published on the Benzinga...</td>\n",
       "      <td>2023-12-21 08:26:56+00:00</td>\n",
       "      <td>https://www.benzinga.com/government/23/12/3633...</td>\n",
       "    </tr>\n",
       "    <tr>\n",
       "      <th>4</th>\n",
       "      <td>Now, Facebook And Messenger Also Get End-To-En...</td>\n",
       "      <td>Meta&amp;#39;s new encryption feature implies that...</td>\n",
       "      <td>2023-12-07 11:08:57+00:00</td>\n",
       "      <td>https://www.benzinga.com/news/23/12/36129319/n...</td>\n",
       "    </tr>\n",
       "    <tr>\n",
       "      <th>...</th>\n",
       "      <td>...</td>\n",
       "      <td>...</td>\n",
       "      <td>...</td>\n",
       "      <td>...</td>\n",
       "    </tr>\n",
       "    <tr>\n",
       "      <th>9775</th>\n",
       "      <td>Investor Optimism Improves After US Stocks Set...</td>\n",
       "      <td>The CNN Money Fear and Greed index showed some...</td>\n",
       "      <td>2023-04-24 06:33:38+00:00</td>\n",
       "      <td>https://www.benzinga.com/news/earnings/23/04/3...</td>\n",
       "    </tr>\n",
       "    <tr>\n",
       "      <th>9776</th>\n",
       "      <td>Coca-Cola's Earnings Outlook</td>\n",
       "      <td></td>\n",
       "      <td>2023-04-21 14:00:37+00:00</td>\n",
       "      <td>https://www.benzinga.com/news/earnings/23/04/3...</td>\n",
       "    </tr>\n",
       "    <tr>\n",
       "      <th>9777</th>\n",
       "      <td>Benzinga Pro's Top 10 Stocks To Watch For Frid...</td>\n",
       "      <td>\\n\\t\\n\\t\\t\\n\\t\\t\\t\\n\\t\\t\\tThe next two weeks w...</td>\n",
       "      <td>2023-04-21 12:59:53+00:00</td>\n",
       "      <td>https://www.benzinga.com/pre-market-outlook/23...</td>\n",
       "    </tr>\n",
       "    <tr>\n",
       "      <th>9778</th>\n",
       "      <td>AI Rollout, Plus New Partnerships For Snap: Wh...</td>\n",
       "      <td>Snap Inc (NYSE SNAP) shares are trading higher...</td>\n",
       "      <td>2023-04-19 18:51:19+00:00</td>\n",
       "      <td>https://www.benzinga.com/news/23/04/31899478/a...</td>\n",
       "    </tr>\n",
       "    <tr>\n",
       "      <th>9779</th>\n",
       "      <td>Snapchat Tweets 'We Partnered Up With Coca-Col...</td>\n",
       "      <td>NaN</td>\n",
       "      <td>2023-04-19 18:00:03+00:00</td>\n",
       "      <td>https://www.benzinga.com/news/23/04/31898481/s...</td>\n",
       "    </tr>\n",
       "  </tbody>\n",
       "</table>\n",
       "<p>9780 rows × 4 columns</p>\n",
       "</div>"
      ],
      "text/plain": [
       "                                               headline  \\\n",
       "0     Meta Blocks Adults From Messaging Teens They D...   \n",
       "1     After 130% Surge, AMD Faces Uncertain Road Ahe...   \n",
       "2     Legendary Investor Jim Rogers Predicts Market ...   \n",
       "3     Mark Zuckerberg's Meta Said To Be Worried Abou...   \n",
       "4     Now, Facebook And Messenger Also Get End-To-En...   \n",
       "...                                                 ...   \n",
       "9775  Investor Optimism Improves After US Stocks Set...   \n",
       "9776                       Coca-Cola's Earnings Outlook   \n",
       "9777  Benzinga Pro's Top 10 Stocks To Watch For Frid...   \n",
       "9778  AI Rollout, Plus New Partnerships For Snap: Wh...   \n",
       "9779  Snapchat Tweets 'We Partnered Up With Coca-Col...   \n",
       "\n",
       "                                                summary  \\\n",
       "0     Meta Platforms has unveiled stricter messaging...   \n",
       "1     AMD&#39;s stock surged in 2023 due to high dem...   \n",
       "2     Rogers has identified indicators of an impendi...   \n",
       "3     This story was first published on the Benzinga...   \n",
       "4     Meta&#39;s new encryption feature implies that...   \n",
       "...                                                 ...   \n",
       "9775  The CNN Money Fear and Greed index showed some...   \n",
       "9776                                                      \n",
       "9777  \\n\\t\\n\\t\\t\\n\\t\\t\\t\\n\\t\\t\\tThe next two weeks w...   \n",
       "9778  Snap Inc (NYSE SNAP) shares are trading higher...   \n",
       "9779                                                NaN   \n",
       "\n",
       "                     created_at  \\\n",
       "0     2024-01-25 13:37:00+00:00   \n",
       "1     2024-01-23 08:03:02+00:00   \n",
       "2     2023-12-29 09:11:30+00:00   \n",
       "3     2023-12-21 08:26:56+00:00   \n",
       "4     2023-12-07 11:08:57+00:00   \n",
       "...                         ...   \n",
       "9775  2023-04-24 06:33:38+00:00   \n",
       "9776  2023-04-21 14:00:37+00:00   \n",
       "9777  2023-04-21 12:59:53+00:00   \n",
       "9778  2023-04-19 18:51:19+00:00   \n",
       "9779  2023-04-19 18:00:03+00:00   \n",
       "\n",
       "                                                    url  \n",
       "0     https://www.benzinga.com/news/24/01/36779229/m...  \n",
       "1     https://www.benzinga.com/analyst-ratings/analy...  \n",
       "2     https://www.benzinga.com/news/23/12/36423331/l...  \n",
       "3     https://www.benzinga.com/government/23/12/3633...  \n",
       "4     https://www.benzinga.com/news/23/12/36129319/n...  \n",
       "...                                                 ...  \n",
       "9775  https://www.benzinga.com/news/earnings/23/04/3...  \n",
       "9776  https://www.benzinga.com/news/earnings/23/04/3...  \n",
       "9777  https://www.benzinga.com/pre-market-outlook/23...  \n",
       "9778  https://www.benzinga.com/news/23/04/31899478/a...  \n",
       "9779  https://www.benzinga.com/news/23/04/31898481/s...  \n",
       "\n",
       "[9780 rows x 4 columns]"
      ]
     },
     "execution_count": 5,
     "metadata": {},
     "output_type": "execute_result"
    }
   ],
   "source": [
    "import pandas as pd\n",
    "\n",
    "df = pd.read_csv(csv_file)\n",
    "df"
   ]
  },
  {
   "cell_type": "code",
   "execution_count": 15,
   "id": "4193c2bb",
   "metadata": {},
   "outputs": [],
   "source": [
    "import re\n",
    "import pandas as pd\n",
    "\n",
    "# Keep digits and symbols that can be significant in financial analysis. \n",
    "# E.g. digits could represent financial figures, and symbols like '$' might indicate currency amounts. \n",
    "def clean_text(text):\n",
    "    # Remove URLs\n",
    "    text = re.sub(r'http\\S+', '', text)  \n",
    "    # Remove newlines and tabs\n",
    "    text = text.replace('\\n', ' ').replace('\\r', '').replace('\\t', ' ') \n",
    "    # Keep words, digits, $ and .\n",
    "    text = re.sub(r'[^\\w\\d$.]', ' ', text)  \n",
    "    # Replace multiple spaces with a single space\n",
    "    text = re.sub(r'\\s+', ' ', text)  \n",
    "    return text.strip()"
   ]
  },
  {
   "cell_type": "code",
   "execution_count": 16,
   "id": "ee86f8b8",
   "metadata": {},
   "outputs": [
    {
     "name": "stdout",
     "output_type": "stream",
     "text": [
      "                                             article  \\\n",
      "0  Stocks rallied, with AAPL reaching $150.50. Mo...   \n",
      "1  Q1 profits fell to $1.5 billion, down from $2 ...   \n",
      "2  Tech stocks, e.g., MSFT, AMZN, and GOOG, showe...   \n",
      "\n",
      "                                     cleaned_article  \n",
      "0  Stocks rallied with AAPL reaching $150.50. Mor...  \n",
      "1  Q1 profits fell to $1.5 billion down from $2 b...  \n",
      "2  Tech stocks e.g. MSFT AMZN and GOOG showed mix...  \n"
     ]
    }
   ],
   "source": [
    "'''\n",
    "Testing clean_data()\n",
    "'''\n",
    "# Example DataFrame\n",
    "data = pd.DataFrame({\n",
    "    'article': [\"Stocks rallied, with AAPL reaching $150.50. More at http://example.com\", \n",
    "                \"Q1 profits fell to $1.5 billion, down from $2 billion. Visit http://finance.com for more.\", \n",
    "                \"Tech stocks, e.g., MSFT, AMZN, and GOOG, showed mixed results today.\"]\n",
    "})\n",
    "\n",
    "data['cleaned_article'] = data['article'].apply(clean_text)\n",
    "print(data)"
   ]
  },
  {
   "cell_type": "code",
   "execution_count": 13,
   "id": "5c0c2c1c",
   "metadata": {},
   "outputs": [
    {
     "name": "stdout",
     "output_type": "stream",
     "text": [
      "2024-01-25\n"
     ]
    }
   ],
   "source": [
    "from datetime import datetime\n",
    "\n",
    "def extract_date(date_str):\n",
    "    try:\n",
    "        # Parse the string to a datetime object\n",
    "        dt = datetime.strptime(date_str, '%Y-%m-%d %H:%M:%S%z')\n",
    "        # Format the datetime object to keep only the date part\n",
    "        return dt.strftime('%Y-%m-%d')\n",
    "    except ValueError as e:\n",
    "        print(f\"Error parsing date: {e}\")\n",
    "        return None"
   ]
  },
  {
   "cell_type": "code",
   "execution_count": null,
   "id": "d1fdbbb7",
   "metadata": {},
   "outputs": [],
   "source": [
    "'''\n",
    "Testing extract_date()\n",
    "'''\n",
    "\n",
    "date_string = \"2024-01-25 13:37:00+00:00\"\n",
    "extracted_date = extract_date(date_string)\n",
    "print(extracted_date)"
   ]
  },
  {
   "cell_type": "code",
   "execution_count": 1,
   "id": "2ca6836c",
   "metadata": {},
   "outputs": [
    {
     "name": "stderr",
     "output_type": "stream",
     "text": [
      "No model was supplied, defaulted to distilbert-base-uncased-finetuned-sst-2-english and revision af0f99b (https://huggingface.co/distilbert-base-uncased-finetuned-sst-2-english).\n",
      "Using a pipeline without specifying a model name and revision in production is not recommended.\n"
     ]
    },
    {
     "data": {
      "application/vnd.jupyter.widget-view+json": {
       "model_id": "f1b6e3f52a664449bd0cb3f477ff6003",
       "version_major": 2,
       "version_minor": 0
      },
      "text/plain": [
       "Downloading model.safetensors:   0%|          | 0.00/268M [00:00<?, ?B/s]"
      ]
     },
     "metadata": {},
     "output_type": "display_data"
    },
    {
     "name": "stderr",
     "output_type": "stream",
     "text": [
      "D:\\Programs\\anaconda3\\Lib\\site-packages\\huggingface_hub\\file_download.py:133: UserWarning: `huggingface_hub` cache-system uses symlinks by default to efficiently store duplicated files but your machine does not support them in C:\\Users\\scsar\\.cache\\huggingface\\hub. Caching files will still work but in a degraded version that might require more space on your disk. This warning can be disabled by setting the `HF_HUB_DISABLE_SYMLINKS_WARNING` environment variable. For more details, see https://huggingface.co/docs/huggingface_hub/how-to-cache#limitations.\n",
      "To support symlinks on Windows, you either need to activate Developer Mode or to run Python as an administrator. In order to see activate developer mode, see this article: https://docs.microsoft.com/en-us/windows/apps/get-started/enable-your-device-for-development\n",
      "  warnings.warn(message)\n"
     ]
    },
    {
     "data": {
      "application/vnd.jupyter.widget-view+json": {
       "model_id": "fe56fb7500a2473195fffac2d5092412",
       "version_major": 2,
       "version_minor": 0
      },
      "text/plain": [
       "Downloading tokenizer_config.json:   0%|          | 0.00/48.0 [00:00<?, ?B/s]"
      ]
     },
     "metadata": {},
     "output_type": "display_data"
    },
    {
     "data": {
      "application/vnd.jupyter.widget-view+json": {
       "model_id": "ab1d08debccd46d48fe1343522169383",
       "version_major": 2,
       "version_minor": 0
      },
      "text/plain": [
       "Downloading vocab.txt:   0%|          | 0.00/232k [00:00<?, ?B/s]"
      ]
     },
     "metadata": {},
     "output_type": "display_data"
    }
   ],
   "source": [
    "from transformers import pipeline\n",
    "\n",
    "classifier = pipeline('sentiment-analysis')\n",
    "\n",
    "def get_sentiment(headline, summary):\n",
    "    sentiment = classifier(summary + headline)\n",
    "    \n",
    "    if sentiment['label'] == 'POSITIVE':\n",
    "        return f\"{sentiment['score']}.2f\"\n",
    "\n",
    "    return f\"-{sentiment['score']}.2f\""
   ]
  },
  {
   "cell_type": "code",
   "execution_count": 17,
   "id": "d86d83ca",
   "metadata": {},
   "outputs": [
    {
     "name": "stderr",
     "output_type": "stream",
     "text": [
      "[nltk_data] Downloading package punkt to\n",
      "[nltk_data]     C:\\Users\\scsar\\AppData\\Roaming\\nltk_data...\n",
      "[nltk_data]   Unzipping tokenizers\\punkt.zip.\n"
     ]
    }
   ],
   "source": [
    "# Example usage\n",
    "cleaned_text = clean_text(\"Example Text! With numbers 123 and punctuation.\")\n",
    "\n",
    "from nltk.tokenize import word_tokenize\n",
    "import nltk\n",
    "nltk.download('punkt')  # Download the required NLTK models\n",
    "\n",
    "def tokenize(text):\n",
    "    return word_tokenize(text)\n",
    "\n",
    "# Example usage\n",
    "tokens = tokenize(cleaned_text)\n"
   ]
  }
 ],
 "metadata": {
  "kernelspec": {
   "display_name": "Python 3 (ipykernel)",
   "language": "python",
   "name": "python3"
  },
  "language_info": {
   "codemirror_mode": {
    "name": "ipython",
    "version": 3
   },
   "file_extension": ".py",
   "mimetype": "text/x-python",
   "name": "python",
   "nbconvert_exporter": "python",
   "pygments_lexer": "ipython3",
   "version": "3.11.5"
  }
 },
 "nbformat": 4,
 "nbformat_minor": 5
}
