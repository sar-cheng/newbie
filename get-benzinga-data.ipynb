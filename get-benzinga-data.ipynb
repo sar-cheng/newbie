{
 "cells": [
  {
   "cell_type": "code",
   "execution_count": 19,
   "id": "9de1a085",
   "metadata": {},
   "outputs": [
    {
     "name": "stdout",
     "output_type": "stream",
     "text": [
      "Headline: Rivian Poaches Apple Executive Involved In Early Stages Of Tech Giant's Self-driving Project: Report\n",
      "Summary: Apple's self-driving car project, codenamed \"Project Titan,\" has been in the works for over a decade now. The company is proceeding with a scaled-back plan for its car and may eye a 2028 launch.\n"
     ]
    }
   ],
   "source": [
    "import requests\n",
    "from bs4 import BeautifulSoup\n",
    "\n",
    "def scrape_benzinga_article(url):\n",
    "    # Send a request and parse the HTML content of the page\n",
    "    response = requests.get(url)\n",
    "    soup = BeautifulSoup(response.content, 'html.parser')\n",
    "    \n",
    "    # Extract the headline\n",
    "    headline_tag = soup.find('h1')\n",
    "    headline = headline_tag.get_text().strip() if headline_tag else \"Headline not found\"\n",
    "\n",
    "    # Find the summary section by class pattern\n",
    "    summary_section = soup.find('div', {'class': lambda x: x and 'key-points' in x})\n",
    "    if summary_section:\n",
    "        # Extract bullet points from the summary section\n",
    "        bullet_points = summary_section.find_all('li')\n",
    "        summary = ' '.join(point.get_text().strip() for point in bullet_points)\n",
    "    else:\n",
    "        summary = 'Summary not found'\n",
    "\n",
    "    return headline, summary\n",
    "\n",
    "# Example usage of the function\n",
    "url = 'https://www.benzinga.com/markets/equities/24/01/36817481/rivian-poaches-apple-executive'\n",
    "headline, summary = scrape_benzinga_article(url)\n",
    "print(f\"Headline: {headline}\\nSummary: {summary}\")"
   ]
  }
 ],
 "metadata": {
  "kernelspec": {
   "display_name": "Python 3 (ipykernel)",
   "language": "python",
   "name": "python3"
  },
  "language_info": {
   "codemirror_mode": {
    "name": "ipython",
    "version": 3
   },
   "file_extension": ".py",
   "mimetype": "text/x-python",
   "name": "python",
   "nbconvert_exporter": "python",
   "pygments_lexer": "ipython3",
   "version": "3.11.5"
  }
 },
 "nbformat": 4,
 "nbformat_minor": 5
}
